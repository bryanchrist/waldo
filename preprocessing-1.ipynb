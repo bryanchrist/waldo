{
 "cells": [
  {
   "cell_type": "markdown",
   "metadata": {},
   "source": [
    "# Assignment 4: Wheres Waldo?\n",
    "### Name: Bryan Christ\n",
    "In this assignment, you will develop an object detection algorithm to locate Waldo in a set of images. You will develop a model to detect the bounding box around Waldo in 20 provided images. Your final task is to submit your predictions on Kaggle for evaluation.\n",
    "\n",
    "### Imports"
   ]
  },
  {
   "cell_type": "code",
   "execution_count": 1,
   "metadata": {},
   "outputs": [],
   "source": [
    "import os\n",
    "import pandas as pd\n",
    "from PIL import Image\n",
    "import torch\n",
    "from torchvision.io import read_image\n",
    "from torchvision.models.detection import FasterRCNN\n",
    "from torchvision.models.detection.rpn import AnchorGenerator\n",
    "from torchvision.transforms import functional as F\n",
    "from tqdm import tqdm\n",
    "import csv"
   ]
  },
  {
   "cell_type": "markdown",
   "metadata": {},
   "source": [
    "# Preprocessing"
   ]
  },
  {
   "cell_type": "code",
   "execution_count": 5,
   "metadata": {},
   "outputs": [],
   "source": [
    "class WaldoDataset(torch.utils.data.Dataset):\n",
    "    def __init__(self, annotations_file, img_dir, transforms=None):\n",
    "        self.img_labels = pd.read_csv(annotations_file)\n",
    "        self.img_dir = img_dir\n",
    "        self.transforms = transforms\n",
    "\n",
    "    def __len__(self):\n",
    "        return len(self.img_labels)\n",
    "\n",
    "    def __getitem__(self, idx):\n",
    "        # Load image\n",
    "        img_path = os.path.join(self.img_dir, self.img_labels.iloc[idx, 0])\n",
    "        image = Image.open(img_path).convert(\"RGB\")\n",
    "        image = F.to_tensor(image)\n",
    "        \n",
    "        # Read bounding box data, ensuring all are converted to float\n",
    "        box_data = self.img_labels.iloc[idx, 4:8].values\n",
    "        boxes = []\n",
    "        for item in box_data:\n",
    "            try:\n",
    "                boxes.append(float(item))\n",
    "            except ValueError as e:\n",
    "                raise ValueError(f\"Error converting bounding box data to float: {e}\")\n",
    "\n",
    "        # Create tensors\n",
    "        boxes = torch.as_tensor([boxes], dtype=torch.float32)\n",
    "        labels = torch.ones((1,), dtype=torch.int64)\n",
    "        image_id = torch.tensor([idx])\n",
    "        area = (boxes[:, 3] - boxes[:, 1]) * (boxes[:, 2] - boxes[:, 0])\n",
    "        iscrowd = torch.zeros((1,), dtype=torch.int64)\n",
    "        \n",
    "        target = {}\n",
    "        target[\"boxes\"] = boxes\n",
    "        target[\"labels\"] = labels\n",
    "        target[\"image_id\"] = image_id\n",
    "        target[\"area\"] = area\n",
    "        target[\"iscrowd\"] = iscrowd\n",
    "\n",
    "        if self.transforms is not None:\n",
    "            image, target = self.transforms(image, target)\n",
    "\n",
    "        return image, target\n",
    "\n",
    "\n",
    "# Example usage:\n",
    "# Create the dataset\n",
    "train_dataset = WaldoDataset(annotations_file= 'wheres-waldo/annotations.csv', img_dir='wheres-waldo/train')\n",
    "from sklearn.model_selection import train_test_split\n",
    "\n",
    "# Extract images and annotations\n",
    "images = [item[0] for item in train_dataset]\n",
    "annotations = [item[1] for item in train_dataset]\n",
    "\n",
    "# Set random seed for reproducibility\n",
    "torch.manual_seed(42)\n",
    "\n",
    "# Perform random train/test split\n",
    "images_train, images_test, annotations_train, annotations_test = train_test_split(images, annotations, test_size=0.2, random_state=42)\n",
    "\n",
    "train_dataset = list(zip(images_train, annotations_train))\n",
    "val_dataset = list(zip(images_test, annotations_test))\n",
    "\n",
    "# Now, you can use this dataset with a DataLoader to train your model\n",
    "from torch.utils.data import DataLoader\n",
    "\n",
    "train_data_loader = DataLoader(\n",
    "    train_dataset,\n",
    "    batch_size=4,\n",
    "    shuffle=True,\n",
    "    collate_fn=lambda x: tuple(zip(*x))\n",
    ")\n",
    "\n",
    "val_data_loader = DataLoader(\n",
    "    val_dataset,\n",
    "    batch_size=4,\n",
    "    shuffle=False,\n",
    "    collate_fn=lambda x: tuple(zip(*x))\n",
    ")"
   ]
  },
  {
   "cell_type": "code",
   "execution_count": 7,
   "metadata": {},
   "outputs": [
    {
     "data": {
      "text/plain": [
       "(tensor([[[0.3725, 0.4824, 0.5961,  ..., 0.9569, 0.9686, 0.9490],\n",
       "          [0.3882, 0.4941, 0.5843,  ..., 0.9294, 0.9373, 0.9294],\n",
       "          [0.4275, 0.5333, 0.5804,  ..., 0.0000, 0.0000, 0.0000],\n",
       "          ...,\n",
       "          [0.3647, 0.6392, 0.4549,  ..., 0.4275, 0.4745, 0.4392],\n",
       "          [0.3725, 0.5490, 0.5373,  ..., 0.2392, 0.4039, 0.2078],\n",
       "          [0.3529, 0.4549, 0.6039,  ..., 0.7686, 0.9961, 0.2078]],\n",
       " \n",
       "         [[0.3569, 0.4667, 0.5804,  ..., 0.9882, 1.0000, 0.9843],\n",
       "          [0.3725, 0.4784, 0.5686,  ..., 0.9843, 1.0000, 0.9922],\n",
       "          [0.4196, 0.5255, 0.5725,  ..., 0.0275, 0.0667, 0.0353],\n",
       "          ...,\n",
       "          [0.3843, 0.6627, 0.4706,  ..., 0.1059, 0.1843, 0.1647],\n",
       "          [0.3922, 0.5725, 0.5529,  ..., 0.0039, 0.1922, 0.0157],\n",
       "          [0.3725, 0.4824, 0.6196,  ..., 0.5765, 0.8118, 0.0431]],\n",
       " \n",
       "         [[0.3608, 0.4706, 0.5843,  ..., 1.0000, 1.0000, 1.0000],\n",
       "          [0.3765, 0.4824, 0.5725,  ..., 1.0000, 1.0000, 1.0000],\n",
       "          [0.4235, 0.5294, 0.5765,  ..., 0.1412, 0.1804, 0.1529],\n",
       "          ...,\n",
       "          [0.3569, 0.6078, 0.3725,  ..., 0.0627, 0.1412, 0.1176],\n",
       "          [0.3647, 0.5176, 0.4549,  ..., 0.0000, 0.1451, 0.0000],\n",
       "          [0.3451, 0.4196, 0.5216,  ..., 0.5490, 0.7725, 0.0000]]]),\n",
       " {'boxes': tensor([[428.,  83., 483., 145.]]),\n",
       "  'labels': tensor([1]),\n",
       "  'image_id': tensor([19]),\n",
       "  'area': tensor([3410.]),\n",
       "  'iscrowd': tensor([0])})"
      ]
     },
     "execution_count": 7,
     "metadata": {},
     "output_type": "execute_result"
    }
   ],
   "source": [
    "val_dataset[1]"
   ]
  },
  {
   "cell_type": "markdown",
   "metadata": {},
   "source": [
    "# Create your model here "
   ]
  },
  {
   "cell_type": "markdown",
   "metadata": {},
   "source": [
    "# Submission File "
   ]
  },
  {
   "cell_type": "code",
   "execution_count": null,
   "metadata": {},
   "outputs": [],
   "source": [
    "def write_predictions_to_csv(predictions, csv_file_path):\n",
    "    \"\"\"\n",
    "    Write predictions to a CSV file.\n",
    "\n",
    "    Parameters:\n",
    "    predictions (list of tuples): A list of predictions, where each prediction is a tuple\n",
    "                                  containing (filename, xmin, ymin, xmax, ymax).\n",
    "    csv_file_path (str): The path to the CSV file where the predictions will be saved.\n",
    "    \"\"\"\n",
    "\n",
    "    # CSV header\n",
    "    header = ['filename', 'xmin', 'ymin', 'xmax', 'ymax']\n",
    "\n",
    "    # Write to CSV\n",
    "    with open(csv_file_path, mode='w', newline='') as file:\n",
    "        writer = csv.writer(file)\n",
    "        writer.writerow(header)  # Write the header\n",
    "        for prediction in predictions:\n",
    "            writer.writerow(prediction)  # Write the prediction rows\n",
    "\n",
    "# Example usage:\n",
    "predictions = [\n",
    "    (\"1.jpg\", 380, 235, 394, 231),\n",
    "    (\"2.jpg\", 972, 628, 1590, 655),\n",
    "    (\"3.jpg\", 623, 955, 641, 976),\n",
    "    # ... add other predictions as needed ...\n",
    "]\n",
    "\n",
    "# Write to 'predictions.csv'\n",
    "write_predictions_to_csv(predictions, 'predictions.csv')\n"
   ]
  }
 ],
 "metadata": {
  "kernelspec": {
   "display_name": "Python 3",
   "language": "python",
   "name": "python3"
  },
  "language_info": {
   "codemirror_mode": {
    "name": "ipython",
    "version": 3
   },
   "file_extension": ".py",
   "mimetype": "text/x-python",
   "name": "python",
   "nbconvert_exporter": "python",
   "pygments_lexer": "ipython3",
   "version": "3.8.8"
  }
 },
 "nbformat": 4,
 "nbformat_minor": 4
}
